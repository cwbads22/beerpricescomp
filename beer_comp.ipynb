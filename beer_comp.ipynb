{
 "cells": [
  {
   "cell_type": "code",
   "execution_count": 20,
   "id": "7851d238-347b-42c1-925d-96d5dcc7c7ab",
   "metadata": {},
   "outputs": [
    {
     "name": "stdout",
     "output_type": "stream",
     "text": [
      "Qual a cerveja mais em conta?\n",
      "\n",
      "Insira o volume em ml do primeiro produto e o preço no formato 0.00 '(ponto e não vírgula!!!)'\n"
     ]
    },
    {
     "name": "stdin",
     "output_type": "stream",
     "text": [
      "Quantos ml tem a lata/garrafa?  350\n",
      "Qual o valor? 3.15\n"
     ]
    },
    {
     "name": "stdout",
     "output_type": "stream",
     "text": [
      "\n",
      "Insira o volume em ml do segundo produto e o preço no formato 0.00'(ponto e não vírgula!!!)'\n"
     ]
    },
    {
     "name": "stdin",
     "output_type": "stream",
     "text": [
      "Quantos ml tem a lata/garrafa?  1000\n",
      "Qual o valor? 8.50\n"
     ]
    },
    {
     "name": "stdout",
     "output_type": "stream",
     "text": [
      "\n",
      "Segundo produto está mais em conta!\n"
     ]
    }
   ],
   "source": [
    "## Primeiro Produto\n",
    "print(\"Qual a cerveja mais em conta?\")\n",
    "print(\"\")\n",
    "print(\"Insira o volume em ml do primeiro produto e o preço no formato 0.00 '(ponto e não vírgula!!!)'\")\n",
    "value1 = int(input(\"Quantos ml tem a lata/garrafa? \"))\n",
    "price1 = float(input(\"Qual o valor?\"))\n",
    "var_price1 = price1 / value1\n",
    "\n",
    "## Segundo Produto\n",
    "print(\"\")\n",
    "print(\"Insira o volume em ml do segundo produto e o preço no formato 0.00'(ponto e não vírgula!!!)'\")\n",
    "value2 = int(input(\"Quantos ml tem a lata/garrafa? \"))\n",
    "price2 = float(input(\"Qual o valor?\"))\n",
    "var_price2 = price2 / value2\n",
    "\n",
    "## Lógica\n",
    "print(\"\")\n",
    "if var_price1 < var_price2:\n",
    "    print(\"Primeiro produto está mais em conta!\")\n",
    "elif var_price1 == var_price2:\n",
    "    print(\"Tanto faz...\")\n",
    "else:\n",
    "    print(\"Segundo produto está mais em conta!\")\n"
   ]
  },
  {
   "cell_type": "code",
   "execution_count": 21,
   "id": "de5dac79-3231-4205-8c9c-317e70c8fb60",
   "metadata": {},
   "outputs": [
    {
     "name": "stdout",
     "output_type": "stream",
     "text": [
      "0.009\n",
      "0.0085\n"
     ]
    }
   ],
   "source": [
    "print(var_price1)\n",
    "print(var_price2)"
   ]
  },
  {
   "cell_type": "code",
   "execution_count": null,
   "id": "1cc66a4f-2c84-4e29-9082-c2eae71b41ee",
   "metadata": {},
   "outputs": [],
   "source": []
  }
 ],
 "metadata": {
  "kernelspec": {
   "display_name": "Python 3 (ipykernel)",
   "language": "python",
   "name": "python3"
  },
  "language_info": {
   "codemirror_mode": {
    "name": "ipython",
    "version": 3
   },
   "file_extension": ".py",
   "mimetype": "text/x-python",
   "name": "python",
   "nbconvert_exporter": "python",
   "pygments_lexer": "ipython3",
   "version": "3.8.13"
  }
 },
 "nbformat": 4,
 "nbformat_minor": 5
}
